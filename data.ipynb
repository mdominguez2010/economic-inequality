{
 "metadata": {
  "language_info": {
   "codemirror_mode": {
    "name": "ipython",
    "version": 3
   },
   "file_extension": ".py",
   "mimetype": "text/x-python",
   "name": "python",
   "nbconvert_exporter": "python",
   "pygments_lexer": "ipython3",
   "version": "3.8.3"
  },
  "orig_nbformat": 4,
  "kernelspec": {
   "name": "python3",
   "display_name": "Python 3.8.3 64-bit ('base': conda)"
  },
  "interpreter": {
   "hash": "dca0ade3e726a953b501b15e8e990130d2b7799f14cfd9f4271676035ebe5511"
  }
 },
 "nbformat": 4,
 "nbformat_minor": 2,
 "cells": [
  {
   "cell_type": "code",
   "execution_count": 27,
   "metadata": {},
   "outputs": [],
   "source": [
    "import pandas as pd\n",
    "import numpy as np\n",
    "import requests\n",
    "from full_fred.fred import Fred"
   ]
  },
  {
   "cell_type": "code",
   "execution_count": 33,
   "metadata": {},
   "outputs": [
    {
     "output_type": "execute_result",
     "data": {
      "text/plain": [
       "True"
      ]
     },
     "metadata": {},
     "execution_count": 33
    }
   ],
   "source": [
    "# Set api key in imported package\n",
    "fred = Fred('api_key.txt')\n",
    "fred.get_api_key_file()\n",
    "# Confirm\n",
    "fred.set_api_key_file('api_key.txt')"
   ]
  },
  {
   "cell_type": "code",
   "execution_count": 35,
   "metadata": {},
   "outputs": [
    {
     "output_type": "execute_result",
     "data": {
      "text/plain": [
       "   realtime_start realtime_end        date  value\n",
       "0      2021-06-11   2021-06-11  1984-01-01  52679\n",
       "1      2021-06-11   2021-06-11  1985-01-01  53664\n",
       "2      2021-06-11   2021-06-11  1986-01-01  55597\n",
       "3      2021-06-11   2021-06-11  1987-01-01  56261\n",
       "4      2021-06-11   2021-06-11  1988-01-01  56725\n",
       "5      2021-06-11   2021-06-11  1989-01-01  57705\n",
       "6      2021-06-11   2021-06-11  1990-01-01  56966\n",
       "7      2021-06-11   2021-06-11  1991-01-01  55302\n",
       "8      2021-06-11   2021-06-11  1992-01-01  54874\n",
       "9      2021-06-11   2021-06-11  1993-01-01  54581\n",
       "10     2021-06-11   2021-06-11  1994-01-01  55215\n",
       "11     2021-06-11   2021-06-11  1995-01-01  56945\n",
       "12     2021-06-11   2021-06-11  1996-01-01  57772\n",
       "13     2021-06-11   2021-06-11  1997-01-01  58961\n",
       "14     2021-06-11   2021-06-11  1998-01-01  61128\n",
       "15     2021-06-11   2021-06-11  1999-01-01  62641\n",
       "16     2021-06-11   2021-06-11  2000-01-01  62512\n",
       "17     2021-06-11   2021-06-11  2001-01-01  61126\n",
       "18     2021-06-11   2021-06-11  2002-01-01  60435\n",
       "19     2021-06-11   2021-06-11  2003-01-01  60360\n",
       "20     2021-06-11   2021-06-11  2004-01-01  60150\n",
       "21     2021-06-11   2021-06-11  2005-01-01  60794\n",
       "22     2021-06-11   2021-06-11  2006-01-01  61268\n",
       "23     2021-06-11   2021-06-11  2007-01-01  62090\n",
       "24     2021-06-11   2021-06-11  2008-01-01  59877\n",
       "25     2021-06-11   2021-06-11  2009-01-01  59458\n",
       "26     2021-06-11   2021-06-11  2010-01-01  57904\n",
       "27     2021-06-11   2021-06-11  2011-01-01  57021\n",
       "28     2021-06-11   2021-06-11  2012-01-01  56912\n",
       "29     2021-06-11   2021-06-11  2013-01-01  58904\n",
       "30     2021-06-11   2021-06-11  2014-01-01  58001\n",
       "31     2021-06-11   2021-06-11  2015-01-01  60987\n",
       "32     2021-06-11   2021-06-11  2016-01-01  62898\n",
       "33     2021-06-11   2021-06-11  2017-01-01  63761\n",
       "34     2021-06-11   2021-06-11  2018-01-01  64324\n",
       "35     2021-06-11   2021-06-11  2019-01-01  68703"
      ],
      "text/html": "<div>\n<style scoped>\n    .dataframe tbody tr th:only-of-type {\n        vertical-align: middle;\n    }\n\n    .dataframe tbody tr th {\n        vertical-align: top;\n    }\n\n    .dataframe thead th {\n        text-align: right;\n    }\n</style>\n<table border=\"1\" class=\"dataframe\">\n  <thead>\n    <tr style=\"text-align: right;\">\n      <th></th>\n      <th>realtime_start</th>\n      <th>realtime_end</th>\n      <th>date</th>\n      <th>value</th>\n    </tr>\n  </thead>\n  <tbody>\n    <tr>\n      <th>0</th>\n      <td>2021-06-11</td>\n      <td>2021-06-11</td>\n      <td>1984-01-01</td>\n      <td>52679</td>\n    </tr>\n    <tr>\n      <th>1</th>\n      <td>2021-06-11</td>\n      <td>2021-06-11</td>\n      <td>1985-01-01</td>\n      <td>53664</td>\n    </tr>\n    <tr>\n      <th>2</th>\n      <td>2021-06-11</td>\n      <td>2021-06-11</td>\n      <td>1986-01-01</td>\n      <td>55597</td>\n    </tr>\n    <tr>\n      <th>3</th>\n      <td>2021-06-11</td>\n      <td>2021-06-11</td>\n      <td>1987-01-01</td>\n      <td>56261</td>\n    </tr>\n    <tr>\n      <th>4</th>\n      <td>2021-06-11</td>\n      <td>2021-06-11</td>\n      <td>1988-01-01</td>\n      <td>56725</td>\n    </tr>\n    <tr>\n      <th>5</th>\n      <td>2021-06-11</td>\n      <td>2021-06-11</td>\n      <td>1989-01-01</td>\n      <td>57705</td>\n    </tr>\n    <tr>\n      <th>6</th>\n      <td>2021-06-11</td>\n      <td>2021-06-11</td>\n      <td>1990-01-01</td>\n      <td>56966</td>\n    </tr>\n    <tr>\n      <th>7</th>\n      <td>2021-06-11</td>\n      <td>2021-06-11</td>\n      <td>1991-01-01</td>\n      <td>55302</td>\n    </tr>\n    <tr>\n      <th>8</th>\n      <td>2021-06-11</td>\n      <td>2021-06-11</td>\n      <td>1992-01-01</td>\n      <td>54874</td>\n    </tr>\n    <tr>\n      <th>9</th>\n      <td>2021-06-11</td>\n      <td>2021-06-11</td>\n      <td>1993-01-01</td>\n      <td>54581</td>\n    </tr>\n    <tr>\n      <th>10</th>\n      <td>2021-06-11</td>\n      <td>2021-06-11</td>\n      <td>1994-01-01</td>\n      <td>55215</td>\n    </tr>\n    <tr>\n      <th>11</th>\n      <td>2021-06-11</td>\n      <td>2021-06-11</td>\n      <td>1995-01-01</td>\n      <td>56945</td>\n    </tr>\n    <tr>\n      <th>12</th>\n      <td>2021-06-11</td>\n      <td>2021-06-11</td>\n      <td>1996-01-01</td>\n      <td>57772</td>\n    </tr>\n    <tr>\n      <th>13</th>\n      <td>2021-06-11</td>\n      <td>2021-06-11</td>\n      <td>1997-01-01</td>\n      <td>58961</td>\n    </tr>\n    <tr>\n      <th>14</th>\n      <td>2021-06-11</td>\n      <td>2021-06-11</td>\n      <td>1998-01-01</td>\n      <td>61128</td>\n    </tr>\n    <tr>\n      <th>15</th>\n      <td>2021-06-11</td>\n      <td>2021-06-11</td>\n      <td>1999-01-01</td>\n      <td>62641</td>\n    </tr>\n    <tr>\n      <th>16</th>\n      <td>2021-06-11</td>\n      <td>2021-06-11</td>\n      <td>2000-01-01</td>\n      <td>62512</td>\n    </tr>\n    <tr>\n      <th>17</th>\n      <td>2021-06-11</td>\n      <td>2021-06-11</td>\n      <td>2001-01-01</td>\n      <td>61126</td>\n    </tr>\n    <tr>\n      <th>18</th>\n      <td>2021-06-11</td>\n      <td>2021-06-11</td>\n      <td>2002-01-01</td>\n      <td>60435</td>\n    </tr>\n    <tr>\n      <th>19</th>\n      <td>2021-06-11</td>\n      <td>2021-06-11</td>\n      <td>2003-01-01</td>\n      <td>60360</td>\n    </tr>\n    <tr>\n      <th>20</th>\n      <td>2021-06-11</td>\n      <td>2021-06-11</td>\n      <td>2004-01-01</td>\n      <td>60150</td>\n    </tr>\n    <tr>\n      <th>21</th>\n      <td>2021-06-11</td>\n      <td>2021-06-11</td>\n      <td>2005-01-01</td>\n      <td>60794</td>\n    </tr>\n    <tr>\n      <th>22</th>\n      <td>2021-06-11</td>\n      <td>2021-06-11</td>\n      <td>2006-01-01</td>\n      <td>61268</td>\n    </tr>\n    <tr>\n      <th>23</th>\n      <td>2021-06-11</td>\n      <td>2021-06-11</td>\n      <td>2007-01-01</td>\n      <td>62090</td>\n    </tr>\n    <tr>\n      <th>24</th>\n      <td>2021-06-11</td>\n      <td>2021-06-11</td>\n      <td>2008-01-01</td>\n      <td>59877</td>\n    </tr>\n    <tr>\n      <th>25</th>\n      <td>2021-06-11</td>\n      <td>2021-06-11</td>\n      <td>2009-01-01</td>\n      <td>59458</td>\n    </tr>\n    <tr>\n      <th>26</th>\n      <td>2021-06-11</td>\n      <td>2021-06-11</td>\n      <td>2010-01-01</td>\n      <td>57904</td>\n    </tr>\n    <tr>\n      <th>27</th>\n      <td>2021-06-11</td>\n      <td>2021-06-11</td>\n      <td>2011-01-01</td>\n      <td>57021</td>\n    </tr>\n    <tr>\n      <th>28</th>\n      <td>2021-06-11</td>\n      <td>2021-06-11</td>\n      <td>2012-01-01</td>\n      <td>56912</td>\n    </tr>\n    <tr>\n      <th>29</th>\n      <td>2021-06-11</td>\n      <td>2021-06-11</td>\n      <td>2013-01-01</td>\n      <td>58904</td>\n    </tr>\n    <tr>\n      <th>30</th>\n      <td>2021-06-11</td>\n      <td>2021-06-11</td>\n      <td>2014-01-01</td>\n      <td>58001</td>\n    </tr>\n    <tr>\n      <th>31</th>\n      <td>2021-06-11</td>\n      <td>2021-06-11</td>\n      <td>2015-01-01</td>\n      <td>60987</td>\n    </tr>\n    <tr>\n      <th>32</th>\n      <td>2021-06-11</td>\n      <td>2021-06-11</td>\n      <td>2016-01-01</td>\n      <td>62898</td>\n    </tr>\n    <tr>\n      <th>33</th>\n      <td>2021-06-11</td>\n      <td>2021-06-11</td>\n      <td>2017-01-01</td>\n      <td>63761</td>\n    </tr>\n    <tr>\n      <th>34</th>\n      <td>2021-06-11</td>\n      <td>2021-06-11</td>\n      <td>2018-01-01</td>\n      <td>64324</td>\n    </tr>\n    <tr>\n      <th>35</th>\n      <td>2021-06-11</td>\n      <td>2021-06-11</td>\n      <td>2019-01-01</td>\n      <td>68703</td>\n    </tr>\n  </tbody>\n</table>\n</div>"
     },
     "metadata": {},
     "execution_count": 35
    }
   ],
   "source": [
    "# Fethcing data\n",
    "fred.get_series_df('MEHOINUSA672N')"
   ]
  },
  {
   "cell_type": "code",
   "execution_count": 26,
   "metadata": {},
   "outputs": [
    {
     "output_type": "execute_result",
     "data": {
      "text/plain": [
       "{'categories': [{'id': 95, 'name': 'Monthly Rates', 'parent_id': 15},\n",
       "  {'id': 275, 'name': 'Japan', 'parent_id': 158}]}"
      ]
     },
     "metadata": {},
     "execution_count": 26
    }
   ],
   "source": [
    "key = '97fa80a3e1524e907ae7f69b98506b52'\n",
    "\n",
    "parameters = {\n",
    "    api_key: key\n",
    "}\n",
    "\n",
    "api_url = f'https://api.stlouisfed.org/fred/series/categories?series_id=EXJPUS&api_key={key}&file_type=json'\n",
    "\n",
    "data = requests.get(url=api_url).json()\n",
    "data"
   ]
  },
  {
   "cell_type": "code",
   "execution_count": null,
   "metadata": {},
   "outputs": [],
   "source": []
  },
  {
   "cell_type": "code",
   "execution_count": null,
   "metadata": {},
   "outputs": [],
   "source": []
  },
  {
   "cell_type": "code",
   "execution_count": null,
   "metadata": {},
   "outputs": [],
   "source": []
  },
  {
   "cell_type": "code",
   "execution_count": null,
   "metadata": {},
   "outputs": [],
   "source": []
  }
 ]
}