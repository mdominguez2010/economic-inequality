{
 "metadata": {
  "language_info": {
   "codemirror_mode": {
    "name": "ipython",
    "version": 3
   },
   "file_extension": ".py",
   "mimetype": "text/x-python",
   "name": "python",
   "nbconvert_exporter": "python",
   "pygments_lexer": "ipython3",
   "version": "3.8.3"
  },
  "orig_nbformat": 4,
  "kernelspec": {
   "name": "python3",
   "display_name": "Python 3.8.3 64-bit ('base': conda)"
  },
  "interpreter": {
   "hash": "dca0ade3e726a953b501b15e8e990130d2b7799f14cfd9f4271676035ebe5511"
  }
 },
 "nbformat": 4,
 "nbformat_minor": 2,
 "cells": [
  {
   "cell_type": "code",
   "execution_count": 1,
   "metadata": {},
   "outputs": [],
   "source": [
    "import pandas as pd\n",
    "import numpy as np\n",
    "import requests\n",
    "from full_fred.fred import Fred # https://github.com/7astro7/full_fred\n",
    "import plotly.graph_objects as go"
   ]
  },
  {
   "cell_type": "code",
   "execution_count": 2,
   "metadata": {},
   "outputs": [
    {
     "output_type": "execute_result",
     "data": {
      "text/plain": [
       "True"
      ]
     },
     "metadata": {},
     "execution_count": 2
    }
   ],
   "source": [
    "# Set api key in imported package\n",
    "fred = Fred('api_key.txt')\n",
    "fred.get_api_key_file()\n",
    "# Confirm\n",
    "fred.set_api_key_file('api_key.txt')"
   ]
  },
  {
   "cell_type": "code",
   "execution_count": null,
   "metadata": {},
   "outputs": [],
   "source": [
    "# Median Household Income\n",
    "med_hh_inc = fred.get_series_df('MEHOINUSA672N')[['date', 'value']]\n",
    "\n",
    "# Create a style traces\n",
    "fig = go.Figure()\n",
    "fig.add_trace(go.Line(x=med_hh_inc.iloc[:, 0],\n",
    "                      y=med_hh_inc.iloc[:, 1],\n",
    "                      mode='lines+markers',\n",
    "                      name='Median Household Income',\n",
    "                      line=dict(color='firebrick', width=4)))\n",
    "\n",
    "# Edit layout\n",
    "fig.update_layout(title='Median U.S. Household Income',\n",
    "                  xaxis_title = 'Year',\n",
    "                  yaxis_title = 'Median Income')\n",
    "\n",
    "fig.update_yaxes(nticks=10)\n",
    "\n",
    "fig.update_xaxes(nticks=0)\n",
    "\n",
    "fig.show();"
   ]
  },
  {
   "cell_type": "code",
   "execution_count": null,
   "metadata": {},
   "outputs": [],
   "source": [
    "line_width = 3\n",
    "# Income inequality (Gini Ratio) for households by Race\n",
    "gini_all = fred.get_series_df('GINIALLRH')[['date', 'value']]\n",
    "\n",
    "# Create a style traces\n",
    "fig = go.Figure()\n",
    "fig.add_trace(go.Line(x=gini_all.iloc[:, 0],\n",
    "                      y=gini_all.iloc[:, 1],\n",
    "                      mode='lines+markers',\n",
    "                      name='Gini Ratio',\n",
    "                      line=dict(color='firebrick', width=line_width)))\n",
    "\n",
    "# Edit layout\n",
    "fig.update_layout(title='Income Inequality, All Races',\n",
    "                  xaxis_title = 'Year',\n",
    "                  yaxis_title = 'Gini Ratio')\n",
    "\n",
    "fig.update_yaxes(nticks=10)\n",
    "\n",
    "fig.update_xaxes(nticks=20)\n",
    "\n",
    "fig.show();"
   ]
  },
  {
   "cell_type": "code",
   "execution_count": null,
   "metadata": {},
   "outputs": [],
   "source": [
    "# Higher the Gini Ratio, higher the inequality, not perfect correlation\n",
    "# Depends on reliable data: illegal transactions, unreported income causes issues\n",
    "# 0 --> perfect equality\n",
    "# 100 --> perfect inequality\n",
    "# A higher Gini ratio indicates greater inequality, with high-income individuals receiving much larger percentages\n",
    "# of the total income of the population"
   ]
  },
  {
   "cell_type": "code",
   "execution_count": null,
   "metadata": {},
   "outputs": [],
   "source": [
    "# Income Inequality (Gini Ratio), by Race\n",
    "line_width = 3\n",
    "races_dict = {\n",
    "    'White': ['GINIWAH', 'blue'],\n",
    "    'Black': ['GINIBAH', 'orange'],\n",
    "    'Hispanic': ['GINIHARH', 'red'],\n",
    "    'Asian': ['GINIAAH', 'green']\n",
    "}\n",
    "\n",
    "# Create a style traces\n",
    "fig = go.Figure()\n",
    "\n",
    "for k, v in races_dict.items():\n",
    "    current_df = fred.get_series_df(races_dict[k][0])[['date', 'value']]\n",
    "    filter_ = (current_df['date'] >= '2002-01-01') & (current_df['date'] <= '2019-01-01')\n",
    "\n",
    "    fig.add_trace(go.Line(x=current_df[filter_].iloc[:, 0],\n",
    "                          y=current_df[filter_].iloc[:, 1],\n",
    "                          mode='lines+markers',\n",
    "                          name=f'{k}',\n",
    "                          line=dict(color=races_dict[k][1], width=line_width)))\n",
    "\n",
    "# Edit layout\n",
    "fig.update_layout(title='Income Inequality, by Race',\n",
    "                  xaxis_title = 'Year',\n",
    "                  yaxis_title = 'Gini Ratio')\n",
    "\n",
    "fig.update_yaxes(nticks=10)\n",
    "\n",
    "fig.update_xaxes(nticks=10)\n",
    "\n",
    "fig.show();"
   ]
  },
  {
   "cell_type": "code",
   "execution_count": null,
   "metadata": {},
   "outputs": [],
   "source": [
    "# Share of Total Assets, by Wealth Percentile\n",
    "line_width = 3\n",
    "wealth_dict = {\n",
    "    'Top 1%': ['WFRBST01108', 'blue'],\n",
    "    '90th to 99th Percentiles': ['WFRBSN09135', 'orange'],\n",
    "    '50th to 90th Percentiles': ['WFRBSN40162', 'red'],\n",
    "    'Bottom 50%': ['WFRBSB50189', 'green']\n",
    "}\n",
    "\n",
    "# Create a style traces\n",
    "fig = go.Figure()\n",
    "\n",
    "for k, v in races_dict.items():\n",
    "    current_df = fred.get_series_df(wealth_dict[k][0])[['date', 'value']]\n",
    "    filter_ = (current_df['date'] >= '1989-07-01') & (current_df['date'] <= '2020-10-01')\n",
    "\n",
    "    fig.add_trace(go.Line(x=current_df[filter_].iloc[:, 0],\n",
    "                          y=current_df[filter_].iloc[:, 1],\n",
    "                          mode='lines+markers',\n",
    "                          name=f'{k}',\n",
    "                          line=dict(color=wealth_dict[k][1], width=line_width)))\n",
    "\n",
    "# Edit layout\n",
    "fig.update_layout(title='Share of Total Assets, by Wealth Percentile',\n",
    "                  xaxis_title = 'Year',\n",
    "                  yaxis_title = 'Pct of Aggregate')\n",
    "\n",
    "fig.update_yaxes(nticks=10)\n",
    "\n",
    "fig.update_xaxes(nticks=30)\n",
    "\n",
    "fig.show();"
   ]
  },
  {
   "cell_type": "code",
   "execution_count": null,
   "metadata": {},
   "outputs": [],
   "source": [
    "# Share of Consumer Credit held by Wealth Percentile\n",
    "line_width = 3\n",
    "wealth_dict = {\n",
    "    'Top 1%': ['WFRBST01130', 'blue'],\n",
    "    '90th to 99th Percentiles': ['WFRBSN09157', 'orange'],\n",
    "    '50th to 90th Percentiles': ['WFRBSN40184', 'red'],\n",
    "    'Bottom 50%': ['WFRBSB50211', 'green']\n",
    "}\n",
    "\n",
    "# Create a style traces\n",
    "fig = go.Figure()\n",
    "\n",
    "for k, v in races_dict.items():\n",
    "    current_df = fred.get_series_df(wealth_dict[k][0])[['date', 'value']]\n",
    "    filter_ = (current_df['date'] >= '1989-07-01') & (current_df['date'] <= '2020-10-01')\n",
    "\n",
    "    fig.add_trace(go.Line(x=current_df[filter_].iloc[:, 0],\n",
    "                          y=current_df[filter_].iloc[:, 1],\n",
    "                          mode='lines+markers',\n",
    "                          name=f'{k}',\n",
    "                          line=dict(color=wealth_dict[k][1], width=line_width)))\n",
    "\n",
    "# Edit layout\n",
    "fig.update_layout(title='Share of Consumer Credit, by Wealth Percentile',\n",
    "                  xaxis_title = 'Year',\n",
    "                  yaxis_title = 'Pct of Aggregate')\n",
    "\n",
    "fig.update_yaxes(nticks=10)\n",
    "\n",
    "fig.update_xaxes(nticks=30)\n",
    "\n",
    "fig.show();"
   ]
  },
  {
   "cell_type": "code",
   "execution_count": null,
   "metadata": {},
   "outputs": [],
   "source": [
    "# Share of Real Estate Held, by Wealth Percentile\n",
    "line_width = 3\n",
    "wealth_dict = {\n",
    "    'Top 1%': ['WFRBST01110', 'blue'],\n",
    "    '90th to 99th Percentiles': ['WFRBSN09137', 'orange'],\n",
    "    '50th to 90th Percentiles': ['WFRBSN40164', 'red'],\n",
    "    'Bottom 50%': ['WFRBSB50191', 'green']\n",
    "}\n",
    "\n",
    "# Create a style traces\n",
    "fig = go.Figure()\n",
    "\n",
    "for k, v in races_dict.items():\n",
    "    current_df = fred.get_series_df(wealth_dict[k][0])[['date', 'value']]\n",
    "    filter_ = (current_df['date'] >= '1989-07-01') & (current_df['date'] <= '2020-10-01')\n",
    "\n",
    "    fig.add_trace(go.Line(x=current_df[filter_].iloc[:, 0],\n",
    "                          y=current_df[filter_].iloc[:, 1],\n",
    "                          mode='lines+markers',\n",
    "                          name=f'{k}',\n",
    "                          line=dict(color=wealth_dict[k][1], width=line_width)))\n",
    "\n",
    "# Edit layout\n",
    "fig.update_layout(title='Share of Real Estate, by Wealth Percentile',\n",
    "                  xaxis_title = 'Year',\n",
    "                  yaxis_title = 'Pct of Aggregate')\n",
    "\n",
    "fig.update_yaxes(nticks=10)\n",
    "\n",
    "fig.update_xaxes(nticks=30)\n",
    "\n",
    "fig.show();"
   ]
  },
  {
   "cell_type": "code",
   "execution_count": null,
   "metadata": {},
   "outputs": [],
   "source": [
    "surplus_deficit = fred.get_series_df('MTSDS133FMS')[['date', 'value']]\n",
    "surplus_deficit.head()"
   ]
  },
  {
   "cell_type": "code",
   "execution_count": null,
   "metadata": {},
   "outputs": [],
   "source": [
    "line_width = 1\n",
    "# Federal Surplus or Deficit\n",
    "surplus_deficit = fred.get_series_df('MTSDS133FMS')[['date', 'value']]\n",
    "\n",
    "# Create a style traces\n",
    "fig = go.Figure()\n",
    "\n",
    "fig.add_trace(go.Line(x=surplus_deficit.iloc[:, 0],\n",
    "                        y=surplus_deficit.iloc[:, 1],\n",
    "                        mode='lines',\n",
    "                        name='Millions of Dollars',\n",
    "                        line=dict(color='green', width=line_width)))\n",
    "\n",
    "fig.add_hline(y=0)\n",
    "\n",
    "# Edit layout\n",
    "fig.update_layout(title='Federal Surplus or Deficit',\n",
    "                  xaxis_title = 'Year',\n",
    "                  yaxis_title = 'Millions of Dollars')\n",
    "\n",
    "fig.update_yaxes(nticks=20)\n",
    "\n",
    "fig.update_xaxes(nticks=30)\n",
    "\n",
    "fig.show();"
   ]
  },
  {
   "cell_type": "code",
   "execution_count": null,
   "metadata": {},
   "outputs": [],
   "source": [
    "line_width = 3\n",
    "income_dict = {\n",
    "    'Alabama': ['MEHOINUSALA672N', 'red'],\n",
    "    'California': ['MEHOINUSCAA672N', 'orange']\n",
    "}\n",
    "\n",
    "# Real Median Household Income, by State\n",
    "# Create a style traces\n",
    "fig = go.Figure()\n",
    "\n",
    "for k, v in income_dict.items():\n",
    "    current_df = fred.get_series_df(income_dict[k][0])[['date', 'value']]\n",
    "    filter_ = (current_df['date'] >= '1984-01-01') & (current_df['date'] <= '2019-01-01')\n",
    "\n",
    "    fig.add_trace(go.Line(x=current_df[filter_].iloc[:, 0],\n",
    "                          y=current_df[filter_].iloc[:, 1],\n",
    "                          mode='lines+markers',\n",
    "                          name=f'{k}',\n",
    "                          line=dict(color=income_dict[k][1], width=line_width)))\n",
    "\n",
    "# Edit layout\n",
    "fig.update_layout(title='Real Median Household Income, by State',\n",
    "                  xaxis_title = 'Year',\n",
    "                  yaxis_title = 'Annual Income')\n",
    "\n",
    "fig.update_yaxes(nticks=10)\n",
    "\n",
    "fig.update_xaxes(nticks=30)\n",
    "\n",
    "fig.show();"
   ]
  },
  {
   "source": [
    "# Cost of Living and Wages"
   ],
   "cell_type": "markdown",
   "metadata": {}
  },
  {
   "cell_type": "code",
   "execution_count": 67,
   "metadata": {},
   "outputs": [
    {
     "output_type": "execute_result",
     "data": {
      "text/plain": [
       "    Year  total_pop  belowPovertyNumber  belowPovertyPercent total_n_families  \\\n",
       "0   2019     324754               33984                 10.5           263696   \n",
       "1   2018     323847               38146                 11.8           262010   \n",
       "2  20171     322548               39564                 12.3           261599   \n",
       "3   2017     322549               39698                 12.3           260709   \n",
       "4   2016     319911               40616                 12.7           259863   \n",
       "\n",
       "   n_families_below_poverty  pct_families_below_poverty  \\\n",
       "0                     22431                         8.5   \n",
       "1                     25489                         9.7   \n",
       "2                     26720                        10.2   \n",
       "3                     26766                        10.3   \n",
       "4                     27762                        10.7   \n",
       "\n",
       "  total_single_mother_families  pct_single_mother_fam_below_poverty  \\\n",
       "0                        46255                                11262   \n",
       "1                        46660                                12491   \n",
       "2                        47517                                13525   \n",
       "3                        47999                                13378   \n",
       "4                        48243                                13914   \n",
       "\n",
       "   n_single_mother_fam_below_poverty total_unrelated  \\\n",
       "0                          24.347638           60117   \n",
       "1                          26.800000           60768   \n",
       "2                          28.500000           59835   \n",
       "3                          27.900000           60786   \n",
       "4                          28.800000           58839   \n",
       "\n",
       "   n_unrelated_below_poverty  pct_unrelated_below_poverty       Race  \n",
       "0                      11300                         18.8  ALL RACES  \n",
       "1                      12287                         20.2  ALL RACES  \n",
       "2                      12465                         20.8  ALL RACES  \n",
       "3                      12593                         20.7  ALL RACES  \n",
       "4                      12336                         21.0  ALL RACES  "
      ],
      "text/html": "<div>\n<style scoped>\n    .dataframe tbody tr th:only-of-type {\n        vertical-align: middle;\n    }\n\n    .dataframe tbody tr th {\n        vertical-align: top;\n    }\n\n    .dataframe thead th {\n        text-align: right;\n    }\n</style>\n<table border=\"1\" class=\"dataframe\">\n  <thead>\n    <tr style=\"text-align: right;\">\n      <th></th>\n      <th>Year</th>\n      <th>total_pop</th>\n      <th>belowPovertyNumber</th>\n      <th>belowPovertyPercent</th>\n      <th>total_n_families</th>\n      <th>n_families_below_poverty</th>\n      <th>pct_families_below_poverty</th>\n      <th>total_single_mother_families</th>\n      <th>pct_single_mother_fam_below_poverty</th>\n      <th>n_single_mother_fam_below_poverty</th>\n      <th>total_unrelated</th>\n      <th>n_unrelated_below_poverty</th>\n      <th>pct_unrelated_below_poverty</th>\n      <th>Race</th>\n    </tr>\n  </thead>\n  <tbody>\n    <tr>\n      <th>0</th>\n      <td>2019</td>\n      <td>324754</td>\n      <td>33984</td>\n      <td>10.5</td>\n      <td>263696</td>\n      <td>22431</td>\n      <td>8.5</td>\n      <td>46255</td>\n      <td>11262</td>\n      <td>24.347638</td>\n      <td>60117</td>\n      <td>11300</td>\n      <td>18.8</td>\n      <td>ALL RACES</td>\n    </tr>\n    <tr>\n      <th>1</th>\n      <td>2018</td>\n      <td>323847</td>\n      <td>38146</td>\n      <td>11.8</td>\n      <td>262010</td>\n      <td>25489</td>\n      <td>9.7</td>\n      <td>46660</td>\n      <td>12491</td>\n      <td>26.800000</td>\n      <td>60768</td>\n      <td>12287</td>\n      <td>20.2</td>\n      <td>ALL RACES</td>\n    </tr>\n    <tr>\n      <th>2</th>\n      <td>20171</td>\n      <td>322548</td>\n      <td>39564</td>\n      <td>12.3</td>\n      <td>261599</td>\n      <td>26720</td>\n      <td>10.2</td>\n      <td>47517</td>\n      <td>13525</td>\n      <td>28.500000</td>\n      <td>59835</td>\n      <td>12465</td>\n      <td>20.8</td>\n      <td>ALL RACES</td>\n    </tr>\n    <tr>\n      <th>3</th>\n      <td>2017</td>\n      <td>322549</td>\n      <td>39698</td>\n      <td>12.3</td>\n      <td>260709</td>\n      <td>26766</td>\n      <td>10.3</td>\n      <td>47999</td>\n      <td>13378</td>\n      <td>27.900000</td>\n      <td>60786</td>\n      <td>12593</td>\n      <td>20.7</td>\n      <td>ALL RACES</td>\n    </tr>\n    <tr>\n      <th>4</th>\n      <td>2016</td>\n      <td>319911</td>\n      <td>40616</td>\n      <td>12.7</td>\n      <td>259863</td>\n      <td>27762</td>\n      <td>10.7</td>\n      <td>48243</td>\n      <td>13914</td>\n      <td>28.800000</td>\n      <td>58839</td>\n      <td>12336</td>\n      <td>21.0</td>\n      <td>ALL RACES</td>\n    </tr>\n  </tbody>\n</table>\n</div>"
     },
     "metadata": {},
     "execution_count": 67
    }
   ],
   "source": [
    "# Poverty Level\n",
    "poverty_by_race = pd.read_excel('poverty-status-by-race.xls')\n",
    "poverty_by_race.head()"
   ]
  },
  {
   "cell_type": "code",
   "execution_count": 62,
   "metadata": {},
   "outputs": [
    {
     "output_type": "stream",
     "name": "stdout",
     "text": [
      "<class 'pandas.core.frame.DataFrame'>\nRangeIndex: 357 entries, 0 to 356\nData columns (total 14 columns):\n #   Column                               Non-Null Count  Dtype  \n---  ------                               --------------  -----  \n 0   Year                                 357 non-null    int64  \n 1   total_pop                            357 non-null    int64  \n 2   belowPovertyNumber                   357 non-null    int64  \n 3   belowPovertyPercent                  357 non-null    float64\n 4   total_n_families                     357 non-null    object \n 5   n_families_below_poverty             357 non-null    int64  \n 6   pct_families_below_poverty           357 non-null    float64\n 7   total_single_mother_families         357 non-null    object \n 8   pct_single_mother_fam_below_poverty  357 non-null    int64  \n 9   n_single_mother_fam_below_poverty    357 non-null    float64\n 10  total_unrelated                      357 non-null    object \n 11  n_unrelated_below_poverty            357 non-null    int64  \n 12  pct_unrelated_below_poverty          357 non-null    float64\n 13  Race                                 357 non-null    object \ndtypes: float64(4), int64(6), object(4)\nmemory usage: 39.2+ KB\n"
     ]
    }
   ],
   "source": [
    "poverty_by_race.info()"
   ]
  },
  {
   "cell_type": "code",
   "execution_count": 68,
   "metadata": {},
   "outputs": [],
   "source": [
    "# Some numbers in Year column kept the 1 superscript from the Excel file\n",
    "poverty_by_race['Year'] = [np.array2string(poverty_by_race['Year'][i]) for i in range(len(poverty_by_race['Year']))]\n",
    "poverty_by_race['Year'] = [x[:4] for x in poverty_by_race['Year']]\n",
    "poverty_by_race['Year'] = pd.to_datetime(poverty_by_race['Year'])"
   ]
  },
  {
   "cell_type": "code",
   "execution_count": 69,
   "metadata": {},
   "outputs": [
    {
     "output_type": "execute_result",
     "data": {
      "text/plain": [
       "pandas._libs.tslibs.timestamps.Timestamp"
      ]
     },
     "metadata": {},
     "execution_count": 69
    }
   ],
   "source": [
    "type(poverty_by_race['Year'][0])"
   ]
  },
  {
   "cell_type": "code",
   "execution_count": 71,
   "metadata": {},
   "outputs": [
    {
     "output_type": "execute_result",
     "data": {
      "text/plain": [
       "array(['ALL RACES', 'WHITE', 'WHITE-NOT-HISPANIC', 'BLACK-OR-COMBINATION',\n",
       "       'BLACK', 'ASIAN-OR-COMBINATION', 'ASIAN', 'AAPI',\n",
       "       'HISPANIC-anyRace'], dtype=object)"
      ]
     },
     "metadata": {},
     "execution_count": 71
    }
   ],
   "source": [
    "poverty_by_race['Race'].unique()"
   ]
  },
  {
   "cell_type": "code",
   "execution_count": 75,
   "metadata": {},
   "outputs": [
    {
     "output_type": "display_data",
     "data": {
      "application/vnd.plotly.v1+json": {
       "config": {
        "plotlyServerURL": "https://plot.ly"
       },
       "data": [
        {
         "mode": "lines+markers",
         "name": "ALL RACES",
         "type": "scatter",
         "x": [
          "2019-01-01T00:00:00",
          "2018-01-01T00:00:00",
          "2017-01-01T00:00:00",
          "2017-01-01T00:00:00",
          "2016-01-01T00:00:00",
          "2015-01-01T00:00:00",
          "2014-01-01T00:00:00",
          "2013-01-01T00:00:00",
          "2013-01-01T00:00:00",
          "2012-01-01T00:00:00",
          "2011-01-01T00:00:00",
          "2010-01-01T00:00:00",
          "2009-01-01T00:00:00",
          "2008-01-01T00:00:00",
          "2007-01-01T00:00:00",
          "2006-01-01T00:00:00",
          "2005-01-01T00:00:00",
          "2004-01-01T00:00:00",
          "2003-01-01T00:00:00",
          "2002-01-01T00:00:00",
          "2001-01-01T00:00:00",
          "2000-01-01T00:00:00",
          "1999-01-01T00:00:00",
          "1998-01-01T00:00:00",
          "1997-01-01T00:00:00",
          "1996-01-01T00:00:00",
          "1995-01-01T00:00:00",
          "1994-01-01T00:00:00",
          "1993-01-01T00:00:00",
          "1992-01-01T00:00:00",
          "1991-01-01T00:00:00",
          "1990-01-01T00:00:00",
          "1989-01-01T00:00:00",
          "1988-01-01T00:00:00",
          "1987-01-01T00:00:00",
          "1986-01-01T00:00:00",
          "1985-01-01T00:00:00",
          "1984-01-01T00:00:00",
          "1983-01-01T00:00:00",
          "1982-01-01T00:00:00",
          "1981-01-01T00:00:00",
          "1980-01-01T00:00:00",
          "1979-01-01T00:00:00",
          "1978-01-01T00:00:00",
          "1977-01-01T00:00:00",
          "1976-01-01T00:00:00",
          "1975-01-01T00:00:00",
          "1974-01-01T00:00:00",
          "1973-01-01T00:00:00",
          "1972-01-01T00:00:00",
          "1971-01-01T00:00:00",
          "1970-01-01T00:00:00",
          "1969-01-01T00:00:00",
          "1968-01-01T00:00:00",
          "1967-01-01T00:00:00",
          "1966-01-01T00:00:00",
          "1965-01-01T00:00:00",
          "1964-01-01T00:00:00",
          "1963-01-01T00:00:00",
          "1962-01-01T00:00:00",
          "1961-01-01T00:00:00",
          "1960-01-01T00:00:00",
          "1959-01-01T00:00:00"
         ],
         "y": [
          10.5,
          11.8,
          12.3,
          12.3,
          12.7,
          13.5,
          14.8,
          14.8,
          14.5,
          15,
          15,
          15.1,
          14.3,
          13.2,
          12.5,
          12.3,
          12.6,
          12.7,
          12.5,
          12.1,
          11.7,
          11.3,
          11.9,
          12.7,
          13.3,
          13.7,
          13.8,
          14.5,
          15.1,
          14.8,
          14.2,
          13.5,
          12.8,
          13,
          13.4,
          13.6,
          14,
          14.4,
          15.2,
          15,
          14,
          13,
          11.7,
          11.4,
          11.6,
          11.8,
          12.3,
          11.2,
          11.1,
          11.9,
          12.5,
          12.6,
          12.1,
          12.8,
          14.2,
          14.7,
          17.3,
          19,
          19.5,
          21,
          21.9,
          22.2,
          22.4
         ]
        },
        {
         "mode": "lines+markers",
         "name": "WHITE",
         "type": "scatter",
         "x": [
          "2019-01-01T00:00:00",
          "2018-01-01T00:00:00",
          "2017-01-01T00:00:00",
          "2017-01-01T00:00:00",
          "2016-01-01T00:00:00",
          "2015-01-01T00:00:00",
          "2014-01-01T00:00:00",
          "2013-01-01T00:00:00",
          "2013-01-01T00:00:00",
          "2012-01-01T00:00:00",
          "2011-01-01T00:00:00",
          "2010-01-01T00:00:00",
          "2009-01-01T00:00:00",
          "2008-01-01T00:00:00",
          "2007-01-01T00:00:00",
          "2006-01-01T00:00:00",
          "2005-01-01T00:00:00",
          "2004-01-01T00:00:00",
          "2003-01-01T00:00:00",
          "2002-01-01T00:00:00",
          "2001-01-01T00:00:00",
          "2000-01-01T00:00:00",
          "1999-01-01T00:00:00",
          "1998-01-01T00:00:00",
          "1997-01-01T00:00:00",
          "1996-01-01T00:00:00",
          "1995-01-01T00:00:00",
          "1994-01-01T00:00:00",
          "1993-01-01T00:00:00",
          "1992-01-01T00:00:00",
          "1991-01-01T00:00:00",
          "1990-01-01T00:00:00",
          "1989-01-01T00:00:00",
          "1988-01-01T00:00:00",
          "1987-01-01T00:00:00",
          "1986-01-01T00:00:00",
          "1985-01-01T00:00:00",
          "1984-01-01T00:00:00",
          "1983-01-01T00:00:00",
          "1982-01-01T00:00:00",
          "1981-01-01T00:00:00",
          "1980-01-01T00:00:00",
          "1979-01-01T00:00:00",
          "1978-01-01T00:00:00",
          "1977-01-01T00:00:00",
          "1976-01-01T00:00:00",
          "1975-01-01T00:00:00",
          "1974-01-01T00:00:00",
          "1973-01-01T00:00:00",
          "1972-01-01T00:00:00",
          "1971-01-01T00:00:00",
          "1970-01-01T00:00:00",
          "1969-01-01T00:00:00",
          "1968-01-01T00:00:00",
          "1967-01-01T00:00:00",
          "1966-01-01T00:00:00",
          "1965-01-01T00:00:00",
          "1964-01-01T00:00:00",
          "1963-01-01T00:00:00",
          "1962-01-01T00:00:00",
          "1961-01-01T00:00:00",
          "1960-01-01T00:00:00",
          "1959-01-01T00:00:00"
         ],
         "y": [
          9.1,
          10.1,
          10.5,
          10.7,
          11,
          11.6,
          12.7,
          12.9,
          12.3,
          12.7,
          12.8,
          13,
          12.3,
          11.2,
          10.5,
          10.3,
          10.6,
          10.8,
          10.5,
          10.2,
          9.9,
          9.5,
          9.8,
          10.5,
          11,
          11.2,
          11.2,
          11.7,
          12.2,
          11.9,
          11.3,
          10.7,
          10,
          10.1,
          10.4,
          11,
          11.4,
          11.5,
          12.1,
          12,
          11.1,
          10.2,
          9,
          8.7,
          8.9,
          9.1,
          9.7,
          8.6,
          8.4,
          9,
          9.9,
          9.9,
          9.5,
          10,
          11,
          11.3,
          13.3,
          14.9,
          15.3,
          16.4,
          17.4,
          17.8,
          18.1
         ]
        },
        {
         "mode": "lines+markers",
         "name": "WHITE-NOT-HISPANIC",
         "type": "scatter",
         "x": [
          "2019-01-01T00:00:00",
          "2018-01-01T00:00:00",
          "2017-01-01T00:00:00",
          "2017-01-01T00:00:00",
          "2016-01-01T00:00:00",
          "2015-01-01T00:00:00",
          "2014-01-01T00:00:00",
          "2013-01-01T00:00:00",
          "2013-01-01T00:00:00",
          "2012-01-01T00:00:00",
          "2011-01-01T00:00:00",
          "2010-01-01T00:00:00",
          "2009-01-01T00:00:00",
          "2008-01-01T00:00:00",
          "2007-01-01T00:00:00",
          "2006-01-01T00:00:00",
          "2005-01-01T00:00:00",
          "2004-01-01T00:00:00",
          "2003-01-01T00:00:00",
          "2002-01-01T00:00:00",
          "2001-01-01T00:00:00",
          "2000-01-01T00:00:00",
          "1999-01-01T00:00:00",
          "1998-01-01T00:00:00",
          "1997-01-01T00:00:00",
          "1996-01-01T00:00:00",
          "1995-01-01T00:00:00",
          "1994-01-01T00:00:00",
          "1993-01-01T00:00:00",
          "1992-01-01T00:00:00",
          "1991-01-01T00:00:00",
          "1990-01-01T00:00:00",
          "1989-01-01T00:00:00",
          "1988-01-01T00:00:00",
          "1987-01-01T00:00:00",
          "1986-01-01T00:00:00",
          "1985-01-01T00:00:00",
          "1984-01-01T00:00:00",
          "1983-01-01T00:00:00",
          "1982-01-01T00:00:00",
          "1981-01-01T00:00:00",
          "1980-01-01T00:00:00",
          "1979-01-01T00:00:00",
          "1978-01-01T00:00:00",
          "1977-01-01T00:00:00",
          "1976-01-01T00:00:00",
          "1975-01-01T00:00:00",
          "1974-01-01T00:00:00",
          "1973-01-01T00:00:00"
         ],
         "y": [
          7.3,
          8.1,
          8.5,
          8.7,
          8.8,
          9.1,
          10.1,
          10,
          9.6,
          9.7,
          9.8,
          9.9,
          9.4,
          8.6,
          8.2,
          8.2,
          8.3,
          8.7,
          8.2,
          8,
          7.8,
          7.4,
          7.7,
          8.2,
          8.6,
          8.6,
          8.5,
          9.4,
          9.9,
          9.6,
          9.4,
          8.8,
          8.3,
          8.4,
          8.7,
          9.4,
          9.7,
          10,
          10.8,
          10.6,
          9.9,
          9.1,
          8.1,
          7.9,
          8,
          8.1,
          8.6,
          7.7,
          7.5
         ]
        },
        {
         "mode": "lines+markers",
         "name": "BLACK-OR-COMBINATION",
         "type": "scatter",
         "x": [
          "2019-01-01T00:00:00",
          "2018-01-01T00:00:00",
          "2017-01-01T00:00:00",
          "2017-01-01T00:00:00",
          "2016-01-01T00:00:00",
          "2015-01-01T00:00:00",
          "2014-01-01T00:00:00",
          "2013-01-01T00:00:00",
          "2013-01-01T00:00:00",
          "2012-01-01T00:00:00",
          "2011-01-01T00:00:00",
          "2010-01-01T00:00:00",
          "2009-01-01T00:00:00",
          "2008-01-01T00:00:00",
          "2007-01-01T00:00:00",
          "2006-01-01T00:00:00",
          "2005-01-01T00:00:00",
          "2004-01-01T00:00:00",
          "2003-01-01T00:00:00",
          "2002-01-01T00:00:00"
         ],
         "y": [
          18.7,
          20.7,
          21.7,
          21.2,
          21.8,
          23.9,
          26,
          25.3,
          27.1,
          27.1,
          27.5,
          27.4,
          25.9,
          24.6,
          24.4,
          24.2,
          24.7,
          24.7,
          24.3,
          23.9
         ]
        },
        {
         "mode": "lines+markers",
         "name": "BLACK",
         "type": "scatter",
         "x": [
          "2019-01-01T00:00:00",
          "2018-01-01T00:00:00",
          "2017-01-01T00:00:00",
          "2017-01-01T00:00:00",
          "2016-01-01T00:00:00",
          "2015-01-01T00:00:00",
          "2014-01-01T00:00:00",
          "2013-01-01T00:00:00",
          "2013-01-01T00:00:00",
          "2012-01-01T00:00:00",
          "2011-01-01T00:00:00",
          "2010-01-01T00:00:00",
          "2009-01-01T00:00:00",
          "2008-01-01T00:00:00",
          "2007-01-01T00:00:00",
          "2006-01-01T00:00:00",
          "2005-01-01T00:00:00",
          "2004-01-01T00:00:00",
          "2003-01-01T00:00:00",
          "2002-01-01T00:00:00",
          "2001-01-01T00:00:00",
          "2000-01-01T00:00:00",
          "1999-01-01T00:00:00",
          "1998-01-01T00:00:00",
          "1997-01-01T00:00:00",
          "1996-01-01T00:00:00",
          "1995-01-01T00:00:00",
          "1994-01-01T00:00:00",
          "1993-01-01T00:00:00",
          "1992-01-01T00:00:00",
          "1991-01-01T00:00:00",
          "1990-01-01T00:00:00",
          "1989-01-01T00:00:00",
          "1988-01-01T00:00:00",
          "1987-01-01T00:00:00",
          "1986-01-01T00:00:00",
          "1985-01-01T00:00:00",
          "1984-01-01T00:00:00",
          "1983-01-01T00:00:00",
          "1982-01-01T00:00:00",
          "1981-01-01T00:00:00",
          "1980-01-01T00:00:00",
          "1979-01-01T00:00:00",
          "1978-01-01T00:00:00",
          "1977-01-01T00:00:00",
          "1976-01-01T00:00:00",
          "1975-01-01T00:00:00",
          "1974-01-01T00:00:00",
          "1973-01-01T00:00:00",
          "1972-01-01T00:00:00",
          "1971-01-01T00:00:00",
          "1970-01-01T00:00:00",
          "1969-01-01T00:00:00",
          "1968-01-01T00:00:00",
          "1967-01-01T00:00:00",
          "1966-01-01T00:00:00",
          "1959-01-01T00:00:00"
         ],
         "y": [
          18.8,
          20.8,
          21.7,
          21.2,
          22,
          24.1,
          26.2,
          25.2,
          27.2,
          27.2,
          27.6,
          27.4,
          25.8,
          24.7,
          24.5,
          24.3,
          24.9,
          24.7,
          24.4,
          24.1,
          22.7,
          22.5,
          23.6,
          26.1,
          26.5,
          28.4,
          29.3,
          30.6,
          33.1,
          33.4,
          32.7,
          31.9,
          30.7,
          31.3,
          32.4,
          31.1,
          31.3,
          33.8,
          35.7,
          35.6,
          34.2,
          32.5,
          31,
          30.6,
          31.3,
          31.1,
          31.3,
          30.3,
          31.4,
          33.3,
          32.5,
          33.5,
          32.2,
          34.7,
          39.3,
          41.8,
          55.1
         ]
        },
        {
         "mode": "lines+markers",
         "name": "ASIAN-OR-COMBINATION",
         "type": "scatter",
         "x": [
          "2019-01-01T00:00:00",
          "2018-01-01T00:00:00",
          "2017-01-01T00:00:00",
          "2017-01-01T00:00:00",
          "2016-01-01T00:00:00",
          "2015-01-01T00:00:00",
          "2014-01-01T00:00:00",
          "2013-01-01T00:00:00",
          "2013-01-01T00:00:00",
          "2012-01-01T00:00:00",
          "2011-01-01T00:00:00",
          "2010-01-01T00:00:00",
          "2009-01-01T00:00:00",
          "2008-01-01T00:00:00",
          "2007-01-01T00:00:00",
          "2006-01-01T00:00:00",
          "2005-01-01T00:00:00",
          "2004-01-01T00:00:00",
          "2003-01-01T00:00:00",
          "2002-01-01T00:00:00"
         ],
         "y": [
          7.1,
          9.8,
          9.6,
          9.8,
          9.9,
          11.1,
          11.5,
          12.5,
          10.4,
          11.4,
          12.3,
          12,
          12.4,
          11.6,
          10.2,
          10.1,
          10.9,
          9.7,
          11.8,
          10
         ]
        },
        {
         "mode": "lines+markers",
         "name": "ASIAN",
         "type": "scatter",
         "x": [
          "2019-01-01T00:00:00",
          "2018-01-01T00:00:00",
          "2017-01-01T00:00:00",
          "2017-01-01T00:00:00",
          "2016-01-01T00:00:00",
          "2015-01-01T00:00:00",
          "2014-01-01T00:00:00",
          "2013-01-01T00:00:00",
          "2013-01-01T00:00:00",
          "2012-01-01T00:00:00",
          "2011-01-01T00:00:00",
          "2010-01-01T00:00:00",
          "2009-01-01T00:00:00",
          "2008-01-01T00:00:00",
          "2007-01-01T00:00:00",
          "2006-01-01T00:00:00",
          "2005-01-01T00:00:00",
          "2004-01-01T00:00:00",
          "2003-01-01T00:00:00",
          "2002-01-01T00:00:00"
         ],
         "y": [
          7.3,
          10.1,
          9.7,
          10,
          10.1,
          11.4,
          12,
          13.1,
          10.5,
          11.7,
          12.3,
          12.2,
          12.5,
          11.8,
          10.2,
          10.3,
          11.1,
          9.8,
          11.8,
          10.1
         ]
        },
        {
         "mode": "lines+markers",
         "name": "AAPI",
         "type": "scatter",
         "x": [
          "2001-01-01T00:00:00",
          "2000-01-01T00:00:00",
          "1999-01-01T00:00:00",
          "1998-01-01T00:00:00",
          "1997-01-01T00:00:00",
          "1996-01-01T00:00:00",
          "1995-01-01T00:00:00",
          "1994-01-01T00:00:00",
          "1993-01-01T00:00:00",
          "1992-01-01T00:00:00",
          "1991-01-01T00:00:00",
          "1990-01-01T00:00:00",
          "1989-01-01T00:00:00",
          "1988-01-01T00:00:00",
          "1987-01-01T00:00:00"
         ],
         "y": [
          10.2,
          9.9,
          10.7,
          12.5,
          14,
          14.5,
          14.6,
          14.6,
          15.3,
          12.7,
          13.8,
          12.2,
          14.1,
          17.3,
          16.1
         ]
        },
        {
         "mode": "lines+markers",
         "name": "HISPANIC-anyRace",
         "type": "scatter",
         "x": [
          "2019-01-01T00:00:00",
          "2018-01-01T00:00:00",
          "2017-01-01T00:00:00",
          "2017-01-01T00:00:00",
          "2016-01-01T00:00:00",
          "2015-01-01T00:00:00",
          "2014-01-01T00:00:00",
          "2013-01-01T00:00:00",
          "2013-01-01T00:00:00",
          "2012-01-01T00:00:00",
          "2011-01-01T00:00:00",
          "2010-01-01T00:00:00",
          "2009-01-01T00:00:00",
          "2008-01-01T00:00:00",
          "2007-01-01T00:00:00",
          "2006-01-01T00:00:00",
          "2005-01-01T00:00:00",
          "2004-01-01T00:00:00",
          "2003-01-01T00:00:00",
          "2002-01-01T00:00:00",
          "2001-01-01T00:00:00",
          "2000-01-01T00:00:00",
          "1999-01-01T00:00:00",
          "1998-01-01T00:00:00",
          "1997-01-01T00:00:00",
          "1996-01-01T00:00:00",
          "1995-01-01T00:00:00",
          "1994-01-01T00:00:00",
          "1993-01-01T00:00:00",
          "1992-01-01T00:00:00",
          "1991-01-01T00:00:00",
          "1990-01-01T00:00:00",
          "1989-01-01T00:00:00",
          "1988-01-01T00:00:00",
          "1987-01-01T00:00:00",
          "1986-01-01T00:00:00",
          "1985-01-01T00:00:00",
          "1984-01-01T00:00:00",
          "1983-01-01T00:00:00",
          "1982-01-01T00:00:00",
          "1981-01-01T00:00:00",
          "1980-01-01T00:00:00",
          "1979-01-01T00:00:00",
          "1978-01-01T00:00:00",
          "1977-01-01T00:00:00",
          "1976-01-01T00:00:00",
          "1975-01-01T00:00:00",
          "1974-01-01T00:00:00",
          "1973-01-01T00:00:00",
          "1972-01-01T00:00:00"
         ],
         "y": [
          15.748655159895714,
          17.6,
          18.3,
          18.3,
          19.4,
          21.4,
          23.6,
          24.7,
          23.5,
          25.6,
          25.3,
          26.5,
          25.3,
          23.2,
          21.5,
          20.6,
          21.8,
          21.9,
          22.5,
          21.8,
          21.4,
          21.5,
          22.7,
          25.6,
          27.1,
          29.4,
          30.3,
          30.7,
          30.6,
          29.6,
          28.7,
          28.1,
          26.2,
          26.7,
          28,
          27.3,
          29,
          28.4,
          28,
          29.9,
          26.5,
          25.7,
          21.8,
          21.6,
          22.4,
          24.7,
          26.9,
          23,
          21.9,
          22.8
         ]
        }
       ],
       "layout": {
        "template": {
         "data": {
          "bar": [
           {
            "error_x": {
             "color": "#2a3f5f"
            },
            "error_y": {
             "color": "#2a3f5f"
            },
            "marker": {
             "line": {
              "color": "#E5ECF6",
              "width": 0.5
             }
            },
            "type": "bar"
           }
          ],
          "barpolar": [
           {
            "marker": {
             "line": {
              "color": "#E5ECF6",
              "width": 0.5
             }
            },
            "type": "barpolar"
           }
          ],
          "carpet": [
           {
            "aaxis": {
             "endlinecolor": "#2a3f5f",
             "gridcolor": "white",
             "linecolor": "white",
             "minorgridcolor": "white",
             "startlinecolor": "#2a3f5f"
            },
            "baxis": {
             "endlinecolor": "#2a3f5f",
             "gridcolor": "white",
             "linecolor": "white",
             "minorgridcolor": "white",
             "startlinecolor": "#2a3f5f"
            },
            "type": "carpet"
           }
          ],
          "choropleth": [
           {
            "colorbar": {
             "outlinewidth": 0,
             "ticks": ""
            },
            "type": "choropleth"
           }
          ],
          "contour": [
           {
            "colorbar": {
             "outlinewidth": 0,
             "ticks": ""
            },
            "colorscale": [
             [
              0,
              "#0d0887"
             ],
             [
              0.1111111111111111,
              "#46039f"
             ],
             [
              0.2222222222222222,
              "#7201a8"
             ],
             [
              0.3333333333333333,
              "#9c179e"
             ],
             [
              0.4444444444444444,
              "#bd3786"
             ],
             [
              0.5555555555555556,
              "#d8576b"
             ],
             [
              0.6666666666666666,
              "#ed7953"
             ],
             [
              0.7777777777777778,
              "#fb9f3a"
             ],
             [
              0.8888888888888888,
              "#fdca26"
             ],
             [
              1,
              "#f0f921"
             ]
            ],
            "type": "contour"
           }
          ],
          "contourcarpet": [
           {
            "colorbar": {
             "outlinewidth": 0,
             "ticks": ""
            },
            "type": "contourcarpet"
           }
          ],
          "heatmap": [
           {
            "colorbar": {
             "outlinewidth": 0,
             "ticks": ""
            },
            "colorscale": [
             [
              0,
              "#0d0887"
             ],
             [
              0.1111111111111111,
              "#46039f"
             ],
             [
              0.2222222222222222,
              "#7201a8"
             ],
             [
              0.3333333333333333,
              "#9c179e"
             ],
             [
              0.4444444444444444,
              "#bd3786"
             ],
             [
              0.5555555555555556,
              "#d8576b"
             ],
             [
              0.6666666666666666,
              "#ed7953"
             ],
             [
              0.7777777777777778,
              "#fb9f3a"
             ],
             [
              0.8888888888888888,
              "#fdca26"
             ],
             [
              1,
              "#f0f921"
             ]
            ],
            "type": "heatmap"
           }
          ],
          "heatmapgl": [
           {
            "colorbar": {
             "outlinewidth": 0,
             "ticks": ""
            },
            "colorscale": [
             [
              0,
              "#0d0887"
             ],
             [
              0.1111111111111111,
              "#46039f"
             ],
             [
              0.2222222222222222,
              "#7201a8"
             ],
             [
              0.3333333333333333,
              "#9c179e"
             ],
             [
              0.4444444444444444,
              "#bd3786"
             ],
             [
              0.5555555555555556,
              "#d8576b"
             ],
             [
              0.6666666666666666,
              "#ed7953"
             ],
             [
              0.7777777777777778,
              "#fb9f3a"
             ],
             [
              0.8888888888888888,
              "#fdca26"
             ],
             [
              1,
              "#f0f921"
             ]
            ],
            "type": "heatmapgl"
           }
          ],
          "histogram": [
           {
            "marker": {
             "colorbar": {
              "outlinewidth": 0,
              "ticks": ""
             }
            },
            "type": "histogram"
           }
          ],
          "histogram2d": [
           {
            "colorbar": {
             "outlinewidth": 0,
             "ticks": ""
            },
            "colorscale": [
             [
              0,
              "#0d0887"
             ],
             [
              0.1111111111111111,
              "#46039f"
             ],
             [
              0.2222222222222222,
              "#7201a8"
             ],
             [
              0.3333333333333333,
              "#9c179e"
             ],
             [
              0.4444444444444444,
              "#bd3786"
             ],
             [
              0.5555555555555556,
              "#d8576b"
             ],
             [
              0.6666666666666666,
              "#ed7953"
             ],
             [
              0.7777777777777778,
              "#fb9f3a"
             ],
             [
              0.8888888888888888,
              "#fdca26"
             ],
             [
              1,
              "#f0f921"
             ]
            ],
            "type": "histogram2d"
           }
          ],
          "histogram2dcontour": [
           {
            "colorbar": {
             "outlinewidth": 0,
             "ticks": ""
            },
            "colorscale": [
             [
              0,
              "#0d0887"
             ],
             [
              0.1111111111111111,
              "#46039f"
             ],
             [
              0.2222222222222222,
              "#7201a8"
             ],
             [
              0.3333333333333333,
              "#9c179e"
             ],
             [
              0.4444444444444444,
              "#bd3786"
             ],
             [
              0.5555555555555556,
              "#d8576b"
             ],
             [
              0.6666666666666666,
              "#ed7953"
             ],
             [
              0.7777777777777778,
              "#fb9f3a"
             ],
             [
              0.8888888888888888,
              "#fdca26"
             ],
             [
              1,
              "#f0f921"
             ]
            ],
            "type": "histogram2dcontour"
           }
          ],
          "mesh3d": [
           {
            "colorbar": {
             "outlinewidth": 0,
             "ticks": ""
            },
            "type": "mesh3d"
           }
          ],
          "parcoords": [
           {
            "line": {
             "colorbar": {
              "outlinewidth": 0,
              "ticks": ""
             }
            },
            "type": "parcoords"
           }
          ],
          "pie": [
           {
            "automargin": true,
            "type": "pie"
           }
          ],
          "scatter": [
           {
            "marker": {
             "colorbar": {
              "outlinewidth": 0,
              "ticks": ""
             }
            },
            "type": "scatter"
           }
          ],
          "scatter3d": [
           {
            "line": {
             "colorbar": {
              "outlinewidth": 0,
              "ticks": ""
             }
            },
            "marker": {
             "colorbar": {
              "outlinewidth": 0,
              "ticks": ""
             }
            },
            "type": "scatter3d"
           }
          ],
          "scattercarpet": [
           {
            "marker": {
             "colorbar": {
              "outlinewidth": 0,
              "ticks": ""
             }
            },
            "type": "scattercarpet"
           }
          ],
          "scattergeo": [
           {
            "marker": {
             "colorbar": {
              "outlinewidth": 0,
              "ticks": ""
             }
            },
            "type": "scattergeo"
           }
          ],
          "scattergl": [
           {
            "marker": {
             "colorbar": {
              "outlinewidth": 0,
              "ticks": ""
             }
            },
            "type": "scattergl"
           }
          ],
          "scattermapbox": [
           {
            "marker": {
             "colorbar": {
              "outlinewidth": 0,
              "ticks": ""
             }
            },
            "type": "scattermapbox"
           }
          ],
          "scatterpolar": [
           {
            "marker": {
             "colorbar": {
              "outlinewidth": 0,
              "ticks": ""
             }
            },
            "type": "scatterpolar"
           }
          ],
          "scatterpolargl": [
           {
            "marker": {
             "colorbar": {
              "outlinewidth": 0,
              "ticks": ""
             }
            },
            "type": "scatterpolargl"
           }
          ],
          "scatterternary": [
           {
            "marker": {
             "colorbar": {
              "outlinewidth": 0,
              "ticks": ""
             }
            },
            "type": "scatterternary"
           }
          ],
          "surface": [
           {
            "colorbar": {
             "outlinewidth": 0,
             "ticks": ""
            },
            "colorscale": [
             [
              0,
              "#0d0887"
             ],
             [
              0.1111111111111111,
              "#46039f"
             ],
             [
              0.2222222222222222,
              "#7201a8"
             ],
             [
              0.3333333333333333,
              "#9c179e"
             ],
             [
              0.4444444444444444,
              "#bd3786"
             ],
             [
              0.5555555555555556,
              "#d8576b"
             ],
             [
              0.6666666666666666,
              "#ed7953"
             ],
             [
              0.7777777777777778,
              "#fb9f3a"
             ],
             [
              0.8888888888888888,
              "#fdca26"
             ],
             [
              1,
              "#f0f921"
             ]
            ],
            "type": "surface"
           }
          ],
          "table": [
           {
            "cells": {
             "fill": {
              "color": "#EBF0F8"
             },
             "line": {
              "color": "white"
             }
            },
            "header": {
             "fill": {
              "color": "#C8D4E3"
             },
             "line": {
              "color": "white"
             }
            },
            "type": "table"
           }
          ]
         },
         "layout": {
          "annotationdefaults": {
           "arrowcolor": "#2a3f5f",
           "arrowhead": 0,
           "arrowwidth": 1
          },
          "coloraxis": {
           "colorbar": {
            "outlinewidth": 0,
            "ticks": ""
           }
          },
          "colorscale": {
           "diverging": [
            [
             0,
             "#8e0152"
            ],
            [
             0.1,
             "#c51b7d"
            ],
            [
             0.2,
             "#de77ae"
            ],
            [
             0.3,
             "#f1b6da"
            ],
            [
             0.4,
             "#fde0ef"
            ],
            [
             0.5,
             "#f7f7f7"
            ],
            [
             0.6,
             "#e6f5d0"
            ],
            [
             0.7,
             "#b8e186"
            ],
            [
             0.8,
             "#7fbc41"
            ],
            [
             0.9,
             "#4d9221"
            ],
            [
             1,
             "#276419"
            ]
           ],
           "sequential": [
            [
             0,
             "#0d0887"
            ],
            [
             0.1111111111111111,
             "#46039f"
            ],
            [
             0.2222222222222222,
             "#7201a8"
            ],
            [
             0.3333333333333333,
             "#9c179e"
            ],
            [
             0.4444444444444444,
             "#bd3786"
            ],
            [
             0.5555555555555556,
             "#d8576b"
            ],
            [
             0.6666666666666666,
             "#ed7953"
            ],
            [
             0.7777777777777778,
             "#fb9f3a"
            ],
            [
             0.8888888888888888,
             "#fdca26"
            ],
            [
             1,
             "#f0f921"
            ]
           ],
           "sequentialminus": [
            [
             0,
             "#0d0887"
            ],
            [
             0.1111111111111111,
             "#46039f"
            ],
            [
             0.2222222222222222,
             "#7201a8"
            ],
            [
             0.3333333333333333,
             "#9c179e"
            ],
            [
             0.4444444444444444,
             "#bd3786"
            ],
            [
             0.5555555555555556,
             "#d8576b"
            ],
            [
             0.6666666666666666,
             "#ed7953"
            ],
            [
             0.7777777777777778,
             "#fb9f3a"
            ],
            [
             0.8888888888888888,
             "#fdca26"
            ],
            [
             1,
             "#f0f921"
            ]
           ]
          },
          "colorway": [
           "#636efa",
           "#EF553B",
           "#00cc96",
           "#ab63fa",
           "#FFA15A",
           "#19d3f3",
           "#FF6692",
           "#B6E880",
           "#FF97FF",
           "#FECB52"
          ],
          "font": {
           "color": "#2a3f5f"
          },
          "geo": {
           "bgcolor": "white",
           "lakecolor": "white",
           "landcolor": "#E5ECF6",
           "showlakes": true,
           "showland": true,
           "subunitcolor": "white"
          },
          "hoverlabel": {
           "align": "left"
          },
          "hovermode": "closest",
          "mapbox": {
           "style": "light"
          },
          "paper_bgcolor": "white",
          "plot_bgcolor": "#E5ECF6",
          "polar": {
           "angularaxis": {
            "gridcolor": "white",
            "linecolor": "white",
            "ticks": ""
           },
           "bgcolor": "#E5ECF6",
           "radialaxis": {
            "gridcolor": "white",
            "linecolor": "white",
            "ticks": ""
           }
          },
          "scene": {
           "xaxis": {
            "backgroundcolor": "#E5ECF6",
            "gridcolor": "white",
            "gridwidth": 2,
            "linecolor": "white",
            "showbackground": true,
            "ticks": "",
            "zerolinecolor": "white"
           },
           "yaxis": {
            "backgroundcolor": "#E5ECF6",
            "gridcolor": "white",
            "gridwidth": 2,
            "linecolor": "white",
            "showbackground": true,
            "ticks": "",
            "zerolinecolor": "white"
           },
           "zaxis": {
            "backgroundcolor": "#E5ECF6",
            "gridcolor": "white",
            "gridwidth": 2,
            "linecolor": "white",
            "showbackground": true,
            "ticks": "",
            "zerolinecolor": "white"
           }
          },
          "shapedefaults": {
           "line": {
            "color": "#2a3f5f"
           }
          },
          "ternary": {
           "aaxis": {
            "gridcolor": "white",
            "linecolor": "white",
            "ticks": ""
           },
           "baxis": {
            "gridcolor": "white",
            "linecolor": "white",
            "ticks": ""
           },
           "bgcolor": "#E5ECF6",
           "caxis": {
            "gridcolor": "white",
            "linecolor": "white",
            "ticks": ""
           }
          },
          "title": {
           "x": 0.05
          },
          "xaxis": {
           "automargin": true,
           "gridcolor": "white",
           "linecolor": "white",
           "ticks": "",
           "title": {
            "standoff": 15
           },
           "zerolinecolor": "white",
           "zerolinewidth": 2
          },
          "yaxis": {
           "automargin": true,
           "gridcolor": "white",
           "linecolor": "white",
           "ticks": "",
           "title": {
            "standoff": 15
           },
           "zerolinecolor": "white",
           "zerolinewidth": 2
          }
         }
        },
        "title": {
         "text": "Percent Below Poverty Level, by Race"
        },
        "xaxis": {
         "nticks": 30,
         "title": {
          "text": "Year"
         }
        },
        "yaxis": {
         "nticks": 10,
         "title": {
          "text": "Pct of Population"
         }
        }
       }
      }
     },
     "metadata": {}
    }
   ],
   "source": [
    "fig = go.Figure()\n",
    "\n",
    "for race in poverty_by_race['Race'].unique():\n",
    "\n",
    "    current_df = poverty_by_race[povert_by_race['Race'] == race]\n",
    "\n",
    "    fig.add_trace(go.Line(x=current_df['Year'],\n",
    "                          y=current_df['belowPovertyPercent'],\n",
    "                          mode='lines+markers',\n",
    "                          name=f'{race}'))\n",
    "\n",
    "# Edit layout\n",
    "fig.update_layout(title='Percent Below Poverty Level, by Race',\n",
    "                  xaxis_title = 'Year',\n",
    "                  yaxis_title = 'Pct of Population')\n",
    "\n",
    "fig.update_yaxes(nticks=10)\n",
    "\n",
    "fig.update_xaxes(nticks=30)\n",
    "\n",
    "fig.show();"
   ]
  },
  {
   "cell_type": "code",
   "execution_count": null,
   "metadata": {},
   "outputs": [],
   "source": []
  }
 ]
}